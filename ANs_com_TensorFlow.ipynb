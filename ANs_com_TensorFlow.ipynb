{
  "nbformat": 4,
  "nbformat_minor": 0,
  "metadata": {
    "colab": {
      "provenance": [],
      "authorship_tag": "ABX9TyO7VaSJLzPmzECdXfaj/6dE",
      "include_colab_link": true
    },
    "kernelspec": {
      "name": "python3",
      "display_name": "Python 3"
    },
    "language_info": {
      "name": "python"
    }
  },
  "cells": [
    {
      "cell_type": "markdown",
      "metadata": {
        "id": "view-in-github",
        "colab_type": "text"
      },
      "source": [
        "<a href=\"https://colab.research.google.com/github/jorgefsa1/colab/blob/main/ANs_com_TensorFlow.ipynb\" target=\"_parent\"><img src=\"https://colab.research.google.com/assets/colab-badge.svg\" alt=\"Open In Colab\"/></a>"
      ]
    },
    {
      "cell_type": "code",
      "source": [
        "!pip install tensorflow\n"
      ],
      "metadata": {
        "id": "j5tBgzzskwSw"
      },
      "execution_count": null,
      "outputs": []
    },
    {
      "cell_type": "code",
      "execution_count": null,
      "metadata": {
        "id": "OspnkbEukPWx"
      },
      "outputs": [],
      "source": [
        "import tensorflow as tf\n",
        "from tensorflow.keras import layers\n",
        "import numpy as np\n",
        "import matplotlib.pyplot as plt\n",
        "\n",
        "# Definindo o gerador\n",
        "def build_generator(latent_dim):\n",
        "    model = tf.keras.Sequential()\n",
        "    model.add(layers.Dense(256, input_dim=latent_dim))\n",
        "    model.add(layers.LeakyReLU(alpha=0.2))\n",
        "    model.add(layers.BatchNormalization(momentum=0.8))\n",
        "    model.add(layers.Dense(512))\n",
        "    model.add(layers.LeakyReLU(alpha=0.2))\n",
        "    model.add(layers.BatchNormalization(momentum=0.8))\n",
        "    model.add(layers.Dense(1024))\n",
        "    model.add(layers.LeakyReLU(alpha=0.2))\n",
        "    model.add(layers.BatchNormalization(momentum=0.8))\n",
        "    model.add(layers.Dense(784, activation='tanh'))\n",
        "    model.add(layers.Reshape((28, 28, 1)))\n",
        "    return model\n",
        "\n",
        "# Definindo o discriminador\n",
        "def build_discriminator(img_shape):\n",
        "    model = tf.keras.Sequential()\n",
        "    model.add(layers.Flatten(input_shape=img_shape))\n",
        "    model.add(layers.Dense(512))\n",
        "    model.add(layers.LeakyReLU(alpha=0.2))\n",
        "    model.add(layers.Dense(256))\n",
        "    model.add(layers.LeakyReLU(alpha=0.2))\n",
        "    model.add(layers.Dense(1, activation='sigmoid'))\n",
        "    return model\n",
        "\n",
        "# Definindo a rede GAN\n",
        "def build_gan(generator, discriminator):\n",
        "    discriminator.trainable = False\n",
        "    model = tf.keras.Sequential()\n",
        "    model.add(generator)\n",
        "    model.add(discriminator)\n",
        "    return model\n",
        "\n",
        "# Carregando dados MNIST\n",
        "(x_train, _), (_, _) = tf.keras.datasets.mnist.load_data()\n",
        "x_train = x_train / 127.5 - 1.0\n",
        "x_train = np.expand_dims(x_train, axis=3)\n",
        "\n",
        "# Configurando GAN\n",
        "latent_dim = 100\n",
        "img_shape = (28, 28, 1)\n",
        "\n",
        "discriminator = build_discriminator(img_shape)\n",
        "generator = build_generator(latent_dim)\n",
        "discriminator.compile(loss='binary_crossentropy', optimizer=tf.keras.optimizers.Adam(0.0002, 0.5))\n",
        "discriminator.trainable = False\n",
        "\n",
        "gan = build_gan(generator, discriminator)\n",
        "gan.compile(loss='binary_crossentropy', optimizer=tf.keras.optimizers.Adam(0.0002, 0.5))\n",
        "\n",
        "# Treinando GAN\n",
        "epochs = 30000\n",
        "batch_size = 64\n",
        "\n",
        "for epoch in range(epochs):\n",
        "\n",
        "    noise = np.random.normal(0, 1, (batch_size, latent_dim))\n",
        "    generated_images = generator.predict(noise)\n",
        "\n",
        "    idx = np.random.randint(0, x_train.shape[0], batch_size)\n",
        "    real_images = x_train[idx]\n",
        "\n",
        "    labels_real = np.ones((batch_size, 1))\n",
        "    labels_fake = np.zeros((batch_size, 1))\n",
        "\n",
        "    d_loss_real = discriminator.train_on_batch(real_images, labels_real)\n",
        "    d_loss_fake = discriminator.train_on_batch(generated_images, labels_fake)\n",
        "    d_loss = 0.5 * np.add(d_loss_real, d_loss_fake)\n",
        "\n",
        "    noise = np.random.normal(0, 1, (batch_size, latent_dim))\n",
        "    labels_gan = np.ones((batch_size, 1))\n",
        "\n",
        "    g_loss = gan.train_on_batch(noise, labels_gan)\n",
        "\n",
        "    if epoch % 1000 == 0:\n",
        "        print(f\"Epoch {epoch}/{epochs} [D loss: {d_loss[0]} | D accuracy: {100 * d_loss[1]}] [G loss: {g_loss}]\")\n",
        "\n",
        "        # Gerando exemplos gerados pelo gerador\n",
        "        generated_images = generated_images * 0.5 + 0.5\n",
        "        fig, axs = plt.subplots(5, 5)\n",
        "        count = 0\n",
        "        for i in range(5):\n",
        "            for j in range(5):\n",
        "                axs[i, j].imshow(generated_images[count, :, :, 0], cmap='gray')\n",
        "                axs[i, j].axis('off')\n",
        "                count += 1\n",
        "        plt.show()\n"
      ]
    }
  ]
}