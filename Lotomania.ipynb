{
  "nbformat": 4,
  "nbformat_minor": 0,
  "metadata": {
    "colab": {
      "provenance": [],
      "authorship_tag": "ABX9TyMwgwu3eDCXrvqirv67E1vu",
      "include_colab_link": true
    },
    "kernelspec": {
      "name": "python3",
      "display_name": "Python 3"
    },
    "language_info": {
      "name": "python"
    }
  },
  "cells": [
    {
      "cell_type": "markdown",
      "metadata": {
        "id": "view-in-github",
        "colab_type": "text"
      },
      "source": [
        "<a href=\"https://colab.research.google.com/github/jorgefsa1/colab/blob/main/Lotomania.ipynb\" target=\"_parent\"><img src=\"https://colab.research.google.com/assets/colab-badge.svg\" alt=\"Open In Colab\"/></a>"
      ]
    },
    {
      "cell_type": "code",
      "source": [],
      "metadata": {
        "id": "qucQpxQXUnFG"
      },
      "execution_count": 89,
      "outputs": []
    },
    {
      "cell_type": "code",
      "source": [
        "import pandas as pd\n",
        "import numpy as np\n",
        "from sklearn.ensemble import RandomForestRegressor\n",
        "from sklearn.model_selection import train_test_split\n",
        "from sklearn.metrics import mean_squared_error\n",
        "\n",
        "# Suponha que você tenha um DataFrame chamado 'df' com a coluna 'resultado' contendo listas de 20 números.\n",
        "df = pd.read_csv('/content/t.csv')\n",
        "df.drop('Unnamed: 0',axis=1)\n",
        "\n",
        "# Pré-processamento dos dados\n",
        "df['Data'] = pd.to_datetime(df['Data'])\n",
        "df['Data'] = (df['Data'] - pd.Timestamp(\"1970-01-01\")) // pd.Timedelta('1D')  # Converta para dias desde a data de referência\n",
        "\n",
        "# Transforme a coluna 'resultado' em uma lista de números\n",
        "df['resultado'] = df['resultado'].apply(lambda x: list(map(int, x.split(', '))))\n",
        "\n",
        "# Criando colunas de saída\n",
        "resultados_colunas = [f'resultado_{i}' for i in range(20)]\n",
        "df[resultados_colunas] = pd.DataFrame(df['resultado'].tolist(), index=df.index)\n",
        "\n",
        "# Removendo a coluna 'resultado' original\n",
        "df.drop('resultado', axis=1, inplace=True)\n",
        "\n",
        "# Seleção de características\n",
        "features = df[['Concurso', 'Data']]\n",
        "target = df[resultados_colunas]\n",
        "\n",
        "# Divisão em conjunto de treinamento e teste\n",
        "X_train, X_test, y_train, y_test = train_test_split(features, target, test_size=0.2, random_state=42)\n",
        "\n",
        "# Modelo RandomForest\n",
        "rf_model = RandomForestRegressor(n_estimators=100, random_state=42)\n",
        "\n",
        "# Treinamento do modelo\n",
        "rf_model.fit(X_train, y_train)\n",
        "\n",
        "# Previsão para o conjunto de teste\n",
        "predictions = rf_model.predict(X_test)\n",
        "\n",
        "# Avaliação do modelo\n",
        "mse = mean_squared_error(y_test, predictions)\n",
        "print(f'Mean Squared Error: {mse}')\n",
        "\n",
        "# Previsão para um novo conjunto de dados\n",
        "new_data = np.array([[2559, (pd.to_datetime('12/12/2023') - pd.Timestamp(\"1970-01-01\")) // pd.Timedelta('1D')]])\n",
        "new_data_prediction = rf_model.predict(new_data)\n",
        "print('Previsão:')\n",
        "print(new_data_prediction)\n"
      ],
      "metadata": {
        "colab": {
          "base_uri": "https://localhost:8080/"
        },
        "id": "ZPpR0KhLY9q5",
        "outputId": "8ad4bd02-7ac5-4fe4-b5be-910cc94807a5"
      },
      "execution_count": 90,
      "outputs": [
        {
          "output_type": "stream",
          "name": "stderr",
          "text": [
            "<ipython-input-90-85a23c364bf1>:12: UserWarning: Parsing dates in DD/MM/YYYY format when dayfirst=False (the default) was specified. This may lead to inconsistently parsed dates! Specify a format to ensure consistent parsing.\n",
            "  df['Data'] = pd.to_datetime(df['Data'])\n"
          ]
        },
        {
          "output_type": "stream",
          "name": "stdout",
          "text": [
            "Mean Squared Error: 1114.3702651464846\n",
            "Previsão:\n",
            "[[46.44 67.02 57.67 53.42 79.13 45.08 35.42 42.16 40.31 52.45 47.68 59.56\n",
            "  58.76 64.34 45.97 31.29 42.67 50.49 46.75 50.78]]\n"
          ]
        },
        {
          "output_type": "stream",
          "name": "stderr",
          "text": [
            "/usr/local/lib/python3.10/dist-packages/sklearn/base.py:439: UserWarning: X does not have valid feature names, but RandomForestRegressor was fitted with feature names\n",
            "  warnings.warn(\n"
          ]
        }
      ]
    },
    {
      "cell_type": "code",
      "source": [
        "import pandas as pd\n",
        "import numpy as np\n",
        "import tensorflow as tf\n",
        "from keras.models import Sequential\n",
        "from keras.layers import Dense\n",
        "from sklearn.model_selection import train_test_split\n",
        "from sklearn.metrics import mean_squared_error\n",
        "\n",
        "# Suponha que você tenha um DataFrame chamado 'df' com a coluna 'resultado' contendo listas de 20 números.\n",
        "df = pd.read_csv('/content/t.csv')\n",
        "df.drop('Unnamed: 0',axis=1)\n",
        "\n",
        "# Pré-processamento dos dados\n",
        "df['Data'] = pd.to_datetime(df['Data'])\n",
        "df['Data'] = (df['Data'] - pd.Timestamp(\"1970-01-01\")) // pd.Timedelta('1D')  # Converta para dias desde a data de referência\n",
        "\n",
        "# Transforme a coluna 'resultado' em uma lista de números\n",
        "df['resultado'] = df['resultado'].apply(lambda x: list(map(int, x.split(', '))))\n",
        "\n",
        "# Criando colunas de saída\n",
        "resultados_colunas = [f'resultado_{i}' for i in range(20)]\n",
        "df[resultados_colunas] = pd.DataFrame(df['resultado'].tolist(), index=df.index)\n",
        "\n",
        "# Removendo a coluna 'resultado' original\n",
        "df.drop('resultado', axis=1, inplace=True)\n",
        "\n",
        "# Seleção de características\n",
        "features = df[['Concurso', 'Data']]\n",
        "target = df[resultados_colunas]\n",
        "\n",
        "# Divisão em conjunto de treinamento e teste\n",
        "X_train, X_test, y_train, y_test = train_test_split(features, target, test_size=0.2, random_state=42)\n",
        "\n",
        "# Criar o modelo da rede neural\n",
        "model = Sequential()\n",
        "model.add(Dense(64, input_dim=2, activation='relu'))\n",
        "model.add(Dense(128, activation='relu'))\n",
        "model.add(Dense(20))  # A saída deve ter 20 neurônios para prever os próximos 20 números\n",
        "\n",
        "# Compilar o modelo\n",
        "model.compile(optimizer='adam', loss='mse')\n",
        "\n",
        "# Treinar o modelo\n",
        "model.fit(X_train, y_train, epochs=50, batch_size=32, validation_data=(X_test, y_test))\n",
        "\n",
        "# Avaliação do modelo\n",
        "predictions = model.predict(X_test)\n",
        "mse = mean_squared_error(y_test, predictions)\n",
        "print(f'Mean Squared Error: {mse}')\n",
        "\n",
        "# Previsão para um novo conjunto de dados\n",
        "new_data = np.array([[2559, (pd.to_datetime('12/12/2023') - pd.Timestamp(\"1970-01-01\")) // pd.Timedelta('1D')]])\n",
        "new_data_prediction = model.predict(new_data)\n",
        "print('Previsão:')\n",
        "print(new_data_prediction)\n"
      ],
      "metadata": {
        "id": "DmGxx9R_ckyd",
        "colab": {
          "base_uri": "https://localhost:8080/"
        },
        "outputId": "3a796fa5-d1d0-4c6a-e27e-e941722f5334"
      },
      "execution_count": 91,
      "outputs": [
        {
          "output_type": "stream",
          "name": "stderr",
          "text": [
            "<ipython-input-91-067c165d16ca>:14: UserWarning: Parsing dates in DD/MM/YYYY format when dayfirst=False (the default) was specified. This may lead to inconsistently parsed dates! Specify a format to ensure consistent parsing.\n",
            "  df['Data'] = pd.to_datetime(df['Data'])\n"
          ]
        },
        {
          "output_type": "stream",
          "name": "stdout",
          "text": [
            "Epoch 1/50\n",
            "64/64 [==============================] - 2s 19ms/step - loss: 78239.2188 - val_loss: 2076.5378\n",
            "Epoch 2/50\n",
            "64/64 [==============================] - 1s 11ms/step - loss: 1644.2657 - val_loss: 1384.3083\n",
            "Epoch 3/50\n",
            "64/64 [==============================] - 1s 12ms/step - loss: 1318.6029 - val_loss: 1200.7834\n",
            "Epoch 4/50\n",
            "64/64 [==============================] - 1s 9ms/step - loss: 1137.2720 - val_loss: 1021.5938\n",
            "Epoch 5/50\n",
            "64/64 [==============================] - 1s 9ms/step - loss: 1006.8034 - val_loss: 978.3855\n",
            "Epoch 6/50\n",
            "64/64 [==============================] - 1s 10ms/step - loss: 935.5563 - val_loss: 897.8468\n",
            "Epoch 7/50\n",
            "64/64 [==============================] - 1s 14ms/step - loss: 897.4065 - val_loss: 860.9540\n",
            "Epoch 8/50\n",
            "64/64 [==============================] - 0s 7ms/step - loss: 883.6234 - val_loss: 870.0302\n",
            "Epoch 9/50\n",
            "64/64 [==============================] - 1s 10ms/step - loss: 883.2699 - val_loss: 863.7324\n",
            "Epoch 10/50\n",
            "64/64 [==============================] - 0s 7ms/step - loss: 883.6127 - val_loss: 850.0016\n",
            "Epoch 11/50\n",
            "64/64 [==============================] - 0s 5ms/step - loss: 881.3505 - val_loss: 895.2579\n",
            "Epoch 12/50\n",
            "64/64 [==============================] - 0s 5ms/step - loss: 889.6453 - val_loss: 961.5098\n",
            "Epoch 13/50\n",
            "64/64 [==============================] - 0s 5ms/step - loss: 891.9479 - val_loss: 877.8705\n",
            "Epoch 14/50\n",
            "64/64 [==============================] - 0s 5ms/step - loss: 893.0566 - val_loss: 856.7510\n",
            "Epoch 15/50\n",
            "64/64 [==============================] - 0s 6ms/step - loss: 891.4602 - val_loss: 883.0851\n",
            "Epoch 16/50\n",
            "64/64 [==============================] - 0s 6ms/step - loss: 894.3829 - val_loss: 912.3955\n",
            "Epoch 17/50\n",
            "64/64 [==============================] - 1s 8ms/step - loss: 883.7242 - val_loss: 856.7085\n",
            "Epoch 18/50\n",
            "64/64 [==============================] - 1s 10ms/step - loss: 894.0418 - val_loss: 901.6646\n",
            "Epoch 19/50\n",
            "64/64 [==============================] - 0s 6ms/step - loss: 909.0321 - val_loss: 937.0697\n",
            "Epoch 20/50\n",
            "64/64 [==============================] - 0s 6ms/step - loss: 918.5195 - val_loss: 860.4803\n",
            "Epoch 21/50\n",
            "64/64 [==============================] - 0s 5ms/step - loss: 913.3560 - val_loss: 891.4457\n",
            "Epoch 22/50\n",
            "64/64 [==============================] - 0s 5ms/step - loss: 903.1822 - val_loss: 925.8608\n",
            "Epoch 23/50\n",
            "64/64 [==============================] - 0s 5ms/step - loss: 915.7524 - val_loss: 932.3113\n",
            "Epoch 24/50\n",
            "64/64 [==============================] - 0s 5ms/step - loss: 916.7149 - val_loss: 880.2382\n",
            "Epoch 25/50\n",
            "64/64 [==============================] - 0s 8ms/step - loss: 903.3289 - val_loss: 885.7896\n",
            "Epoch 26/50\n",
            "64/64 [==============================] - 0s 5ms/step - loss: 908.4397 - val_loss: 873.1652\n",
            "Epoch 27/50\n",
            "64/64 [==============================] - 0s 6ms/step - loss: 910.3218 - val_loss: 878.7289\n",
            "Epoch 28/50\n",
            "64/64 [==============================] - 0s 5ms/step - loss: 937.0612 - val_loss: 933.2247\n",
            "Epoch 29/50\n",
            "64/64 [==============================] - 0s 5ms/step - loss: 914.3978 - val_loss: 921.8702\n",
            "Epoch 30/50\n",
            "64/64 [==============================] - 1s 8ms/step - loss: 912.7671 - val_loss: 924.7284\n",
            "Epoch 31/50\n",
            "64/64 [==============================] - 0s 6ms/step - loss: 911.1118 - val_loss: 892.9615\n",
            "Epoch 32/50\n",
            "64/64 [==============================] - 0s 4ms/step - loss: 940.6343 - val_loss: 939.5368\n",
            "Epoch 33/50\n",
            "64/64 [==============================] - 0s 6ms/step - loss: 954.6826 - val_loss: 868.1238\n",
            "Epoch 34/50\n",
            "64/64 [==============================] - 0s 4ms/step - loss: 941.2981 - val_loss: 940.1919\n",
            "Epoch 35/50\n",
            "64/64 [==============================] - 0s 5ms/step - loss: 933.5444 - val_loss: 870.5247\n",
            "Epoch 36/50\n",
            "64/64 [==============================] - 0s 6ms/step - loss: 923.0215 - val_loss: 987.4429\n",
            "Epoch 37/50\n",
            "64/64 [==============================] - 1s 11ms/step - loss: 942.9443 - val_loss: 988.5403\n",
            "Epoch 38/50\n",
            "64/64 [==============================] - 1s 8ms/step - loss: 936.5713 - val_loss: 961.9977\n",
            "Epoch 39/50\n",
            "64/64 [==============================] - 0s 7ms/step - loss: 946.3578 - val_loss: 904.2435\n",
            "Epoch 40/50\n",
            "64/64 [==============================] - 1s 10ms/step - loss: 934.0135 - val_loss: 899.6776\n",
            "Epoch 41/50\n",
            "64/64 [==============================] - 1s 16ms/step - loss: 917.9755 - val_loss: 919.7116\n",
            "Epoch 42/50\n",
            "64/64 [==============================] - 1s 9ms/step - loss: 937.4012 - val_loss: 870.2240\n",
            "Epoch 43/50\n",
            "64/64 [==============================] - 1s 11ms/step - loss: 928.6267 - val_loss: 900.1920\n",
            "Epoch 44/50\n",
            "64/64 [==============================] - 1s 11ms/step - loss: 948.8766 - val_loss: 937.0699\n",
            "Epoch 45/50\n",
            "64/64 [==============================] - 1s 10ms/step - loss: 920.0433 - val_loss: 958.6419\n",
            "Epoch 46/50\n",
            "64/64 [==============================] - 1s 8ms/step - loss: 947.5630 - val_loss: 951.4617\n",
            "Epoch 47/50\n",
            "64/64 [==============================] - 0s 5ms/step - loss: 960.1976 - val_loss: 943.2273\n",
            "Epoch 48/50\n",
            "64/64 [==============================] - 0s 5ms/step - loss: 964.1742 - val_loss: 993.0512\n",
            "Epoch 49/50\n",
            "64/64 [==============================] - 0s 6ms/step - loss: 973.6912 - val_loss: 945.3431\n",
            "Epoch 50/50\n",
            "64/64 [==============================] - 0s 6ms/step - loss: 942.0427 - val_loss: 922.9927\n",
            "16/16 [==============================] - 0s 5ms/step\n",
            "Mean Squared Error: 922.9926987203069\n",
            "1/1 [==============================] - 0s 202ms/step\n",
            "Previsão:\n",
            "[[61.497795 36.384712 39.267162 39.026627 54.116    71.605865 47.878567\n",
            "  52.91541  34.67427  55.99526  44.978344 44.631653 66.06117  57.913746\n",
            "  33.92989  34.648346 49.0149   47.850597 78.80722  35.82022 ]]\n"
          ]
        }
      ]
    },
    {
      "cell_type": "code",
      "source": [
        "import pandas as pd\n",
        "import numpy as np\n",
        "from sklearn.model_selection import train_test_split\n",
        "from sklearn.neighbors import KNeighborsRegressor\n",
        "from sklearn.metrics import mean_squared_error\n",
        "\n",
        "# Suponha que você tenha um DataFrame chamado 'df' com a coluna 'resultado' contendo listas de 20 números.\n",
        "df = pd.read_csv('/content/t.csv')\n",
        "df.drop('Unnamed: 0',axis=1)\n",
        "\n",
        "# Pré-processamento dos dados\n",
        "df['Data'] = pd.to_datetime(df['Data'])\n",
        "df['Data'] = (df['Data'] - pd.Timestamp(\"1970-01-01\")) // pd.Timedelta('1D')  # Converta para dias desde a data de referência\n",
        "\n",
        "# Transforme a coluna 'resultado' em uma lista de números\n",
        "df['resultado'] = df['resultado'].apply(lambda x: list(map(int, x.split(', '))))\n",
        "\n",
        "# Criando colunas de saída\n",
        "resultados_colunas = [f'resultado_{i}' for i in range(20)]\n",
        "df[resultados_colunas] = pd.DataFrame(df['resultado'].tolist(), index=df.index)\n",
        "\n",
        "# Removendo a coluna 'resultado' original\n",
        "df.drop('resultado', axis=1, inplace=True)\n",
        "\n",
        "# Seleção de características\n",
        "features = df[['Concurso', 'Data']]\n",
        "target = df[resultados_colunas]\n",
        "\n",
        "# Divisão em conjunto de treinamento e teste\n",
        "X_train, X_test, y_train, y_test = train_test_split(features, target, test_size=0.2, random_state=42)\n",
        "\n",
        "# Criar o modelo KNN para regressão\n",
        "knn_model = KNeighborsRegressor(n_neighbors=5)  # Você pode ajustar o número de vizinhos conforme necessário\n",
        "\n",
        "# Treinar o modelo\n",
        "knn_model.fit(X_train, y_train)\n",
        "\n",
        "# Avaliação do modelo\n",
        "predictions = knn_model.predict(X_test)\n",
        "mse = mean_squared_error(y_test, predictions)\n",
        "print(f'Mean Squared Error: {mse}')\n",
        "\n",
        "# Previsão para um novo conjunto de dados\n",
        "new_data = np.array([[2559, (pd.to_datetime('12/12/2023') - pd.Timestamp(\"1970-01-01\")) // pd.Timedelta('1D')]])\n",
        "new_data_prediction = knn_model.predict(new_data)\n",
        "print('Previsão:')\n",
        "print(new_data_prediction)\n"
      ],
      "metadata": {
        "colab": {
          "base_uri": "https://localhost:8080/"
        },
        "id": "hQz6-XRIfZxV",
        "outputId": "954c4fbf-0fe3-41f4-fc23-5cf7d1b0c6d0"
      },
      "execution_count": 92,
      "outputs": [
        {
          "output_type": "stream",
          "name": "stderr",
          "text": [
            "<ipython-input-92-264c4fa77d09>:12: UserWarning: Parsing dates in DD/MM/YYYY format when dayfirst=False (the default) was specified. This may lead to inconsistently parsed dates! Specify a format to ensure consistent parsing.\n",
            "  df['Data'] = pd.to_datetime(df['Data'])\n"
          ]
        },
        {
          "output_type": "stream",
          "name": "stdout",
          "text": [
            "Mean Squared Error: 996.9572617187499\n",
            "Previsão:\n",
            "[[32.2 68.  61.8 43.4 60.4 51.2 66.8 62.2 39.8 62.8 33.  70.2 35.8 51.4\n",
            "  42.2 42.4 47.6 58.4 44.8 48.2]]\n"
          ]
        },
        {
          "output_type": "stream",
          "name": "stderr",
          "text": [
            "/usr/local/lib/python3.10/dist-packages/sklearn/base.py:439: UserWarning: X does not have valid feature names, but KNeighborsRegressor was fitted with feature names\n",
            "  warnings.warn(\n"
          ]
        }
      ]
    }
  ]
}